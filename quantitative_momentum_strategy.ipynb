{
  "nbformat": 4,
  "nbformat_minor": 0,
  "metadata": {
    "colab": {
      "name": "quantitative_momentum_strategy.ipynb",
      "provenance": [],
      "authorship_tag": "ABX9TyOz6BtVp6+dZeV5Asd7ilt4",
      "include_colab_link": true
    },
    "kernelspec": {
      "name": "python3",
      "display_name": "Python 3"
    },
    "language_info": {
      "name": "python"
    }
  },
  "cells": [
    {
      "cell_type": "markdown",
      "metadata": {
        "id": "view-in-github",
        "colab_type": "text"
      },
      "source": [
        "<a href=\"https://colab.research.google.com/github/Ronak728/Black-box-trading-using-Python/blob/main/quantitative_momentum_strategy.ipynb\" target=\"_parent\"><img src=\"https://colab.research.google.com/assets/colab-badge.svg\" alt=\"Open In Colab\"/></a>"
      ]
    },
    {
      "cell_type": "markdown",
      "metadata": {
        "id": "Y39bHozSik-X"
      },
      "source": [
        "Importing Libraries"
      ]
    },
    {
      "cell_type": "code",
      "metadata": {
        "id": "QQ3bp8zoifX1"
      },
      "source": [
        "import numpy as np\n",
        "import pandas as pd\n",
        "import requests\n",
        "import xlsxwriter\n",
        "import math\n",
        "from scipy import stats"
      ],
      "execution_count": null,
      "outputs": []
    },
    {
      "cell_type": "markdown",
      "metadata": {
        "id": "budiBdoTiusG"
      },
      "source": [
        "Importing List of stocks"
      ]
    },
    {
      "cell_type": "code",
      "metadata": {
        "id": "INDQh057iw3b"
      },
      "source": [
        "stocks = pd.read_csv('sp_500_stocks.csv')\n",
        "from secrets import IEX_CLOUD_API_TOKEN"
      ],
      "execution_count": null,
      "outputs": []
    },
    {
      "cell_type": "markdown",
      "metadata": {
        "id": "2dA8q5xJizeh"
      },
      "source": [
        "Making API call"
      ]
    },
    {
      "cell_type": "code",
      "metadata": {
        "id": "gGlOAeZFi5lg"
      },
      "source": [
        "symbol = 'AAPL'\n",
        "api_url = f'https://sandbox.iexapis.com/stable/stock/{symbol}/stats?token={IEX_CLOUD_API_TOKEN}'\n",
        "data = requests.get(api_url).json()\n",
        "data"
      ],
      "execution_count": null,
      "outputs": []
    },
    {
      "cell_type": "markdown",
      "metadata": {
        "id": "Ti1a8S1-jEPq"
      },
      "source": [
        "Parsing API call"
      ]
    },
    {
      "cell_type": "code",
      "metadata": {
        "id": "6Ekc3T8YjHNw"
      },
      "source": [
        "data['year1ChangePercent']"
      ],
      "execution_count": null,
      "outputs": []
    },
    {
      "cell_type": "markdown",
      "metadata": {
        "id": "87mlvJQcjNsR"
      },
      "source": [
        "Executing a batch API call"
      ]
    },
    {
      "cell_type": "code",
      "metadata": {
        "id": "RRIPORCejPwQ"
      },
      "source": [
        "def chunks(lst, n):\n",
        "    \"\"\"Yield successive n-sized chunks from lst.\"\"\"\n",
        "    for i in range(0, len(lst), n):\n",
        "        yield lst[i:i + n]   \n",
        "        \n",
        "symbol_groups = list(chunks(stocks['Ticker'], 100))\n",
        "symbol_strings = []\n",
        "for i in range(0, len(symbol_groups)):\n",
        "    symbol_strings.append(','.join(symbol_groups[i]))\n",
        "\n",
        "my_columns = ['Ticker', 'Price', 'One-Year Price Return', 'Number of Shares to Buy']"
      ],
      "execution_count": null,
      "outputs": []
    },
    {
      "cell_type": "markdown",
      "metadata": {
        "id": "gQKfFr54jSZE"
      },
      "source": [
        "Building DataFrame"
      ]
    },
    {
      "cell_type": "code",
      "metadata": {
        "id": "NTpgS7JijUy2"
      },
      "source": [
        "final_dataframe = pd.DataFrame(columns = my_columns)\n",
        "\n",
        "for symbol_string in symbol_strings:\n",
        "#     print(symbol_strings)\n",
        "    batch_api_call_url = f'https://sandbox.iexapis.com/stable/stock/market/batch/?types=stats,quote&symbols={symbol_string}&token={IEX_CLOUD_API_TOKEN}'\n",
        "    data = requests.get(batch_api_call_url).json()\n",
        "    for symbol in symbol_string.split(','):\n",
        "        final_dataframe = final_dataframe.append(\n",
        "                                        pd.Series([symbol, \n",
        "                                                   data[symbol]['quote']['latestPrice'],\n",
        "                                                   data[symbol]['stats']['year1ChangePercent'],\n",
        "                                                   'N/A'\n",
        "                                                   ], \n",
        "                                                  index = my_columns), \n",
        "                                        ignore_index = True)\n",
        "        \n",
        "    \n",
        "final_dataframe"
      ],
      "execution_count": null,
      "outputs": []
    },
    {
      "cell_type": "markdown",
      "metadata": {
        "id": "nfQLLtonjYUl"
      },
      "source": [
        "Removing Low momentum stocks"
      ]
    },
    {
      "cell_type": "code",
      "metadata": {
        "id": "lskTCM3Ijbx9"
      },
      "source": [
        "final_dataframe.sort_values('One-Year Price Return', ascending = False, inplace = True)\n",
        "final_dataframe = final_dataframe[:51]\n",
        "final_dataframe.reset_index(drop = True, inplace = True)\n",
        "final_dataframe"
      ],
      "execution_count": null,
      "outputs": []
    },
    {
      "cell_type": "markdown",
      "metadata": {
        "id": "oOzLD5x-jgHv"
      },
      "source": [
        "Calculating number of shares to buy"
      ]
    },
    {
      "cell_type": "code",
      "metadata": {
        "id": "7IyZf4Qmjh4i"
      },
      "source": [
        "def portfolio_input():\n",
        "    global portfolio_size\n",
        "    portfolio_size = input(\"Enter the value of your portfolio:\")\n",
        "\n",
        "    try:\n",
        "        val = float(portfolio_size)\n",
        "    except ValueError:\n",
        "        print(\"That's not a number! \\n Try again:\")\n",
        "        portfolio_size = input(\"Enter the value of your portfolio:\")\n",
        "\n",
        "portfolio_input()\n",
        "print(portfolio_size)"
      ],
      "execution_count": null,
      "outputs": []
    },
    {
      "cell_type": "code",
      "metadata": {
        "id": "lZodC5-ejnzk"
      },
      "source": [
        "position_size = float(portfolio_size) / len(final_dataframe.index)\n",
        "for i in range(0, len(final_dataframe['Ticker'])):\n",
        "    final_dataframe.loc[i, 'Number of Shares to Buy'] = math.floor(position_size / final_dataframe['Price'][i])\n",
        "final_dataframe"
      ],
      "execution_count": null,
      "outputs": []
    },
    {
      "cell_type": "markdown",
      "metadata": {
        "id": "cFqWHfXrjtIA"
      },
      "source": [
        "Building a better momentum strategy"
      ]
    },
    {
      "cell_type": "code",
      "metadata": {
        "id": "c1KkavKrju3P"
      },
      "source": [
        "hqm_columns = [\n",
        "                'Ticker', \n",
        "                'Price', \n",
        "                'Number of Shares to Buy', \n",
        "                'One-Year Price Return', \n",
        "                'One-Year Return Percentile',\n",
        "                'Six-Month Price Return',\n",
        "                'Six-Month Return Percentile',\n",
        "                'Three-Month Price Return',\n",
        "                'Three-Month Return Percentile',\n",
        "                'One-Month Price Return',\n",
        "                'One-Month Return Percentile',\n",
        "                'HQM Score'\n",
        "                ]\n",
        "\n",
        "hqm_dataframe = pd.DataFrame(columns = hqm_columns)\n",
        "\n",
        "for symbol_string in symbol_strings:\n",
        "#     print(symbol_strings)\n",
        "    batch_api_call_url = f'https://sandbox.iexapis.com/stable/stock/market/batch/?types=stats,quote&symbols={symbol_string}&token={IEX_CLOUD_API_TOKEN}'\n",
        "    data = requests.get(batch_api_call_url).json()\n",
        "    for symbol in symbol_string.split(','):\n",
        "        hqm_dataframe = hqm_dataframe.append(\n",
        "                                        pd.Series([symbol, \n",
        "                                                   data[symbol]['quote']['latestPrice'],\n",
        "                                                   'N/A',\n",
        "                                                   data[symbol]['stats']['year1ChangePercent'],\n",
        "                                                   'N/A',\n",
        "                                                   data[symbol]['stats']['month6ChangePercent'],\n",
        "                                                   'N/A',\n",
        "                                                   data[symbol]['stats']['month3ChangePercent'],\n",
        "                                                   'N/A',\n",
        "                                                   data[symbol]['stats']['month1ChangePercent'],\n",
        "                                                   'N/A',\n",
        "                                                   'N/A'\n",
        "                                                   ], \n",
        "                                                  index = hqm_columns), \n",
        "                                        ignore_index = True)\n",
        "        \n",
        "hqm_dataframe.columns"
      ],
      "execution_count": null,
      "outputs": []
    },
    {
      "cell_type": "markdown",
      "metadata": {
        "id": "1zyanzGsj5PC"
      },
      "source": [
        "Calculating momentum percentiles"
      ]
    },
    {
      "cell_type": "code",
      "metadata": {
        "id": "094WRNh4j7Cx"
      },
      "source": [
        "time_periods = [\n",
        "                'One-Year',\n",
        "                'Six-Month',\n",
        "                'Three-Month',\n",
        "                'One-Month'\n",
        "                ]\n",
        "\n",
        "for row in hqm_dataframe.index:\n",
        "    for time_period in time_periods:\n",
        "        hqm_dataframe.loc[row, f'{time_period} Return Percentile'] = stats.percentileofscore(hqm_dataframe[f'{time_period} Price Return'], hqm_dataframe.loc[row, f'{time_period} Price Return'])/100\n",
        "\n",
        "# Print each percentile score to make sure it was calculated properly\n",
        "for time_period in time_periods:\n",
        "    print(hqm_dataframe[f'{time_period} Return Percentile'])\n",
        "\n",
        "#Print the entire DataFrame    \n",
        "hqm_dataframe"
      ],
      "execution_count": null,
      "outputs": []
    },
    {
      "cell_type": "markdown",
      "metadata": {
        "id": "WIfINn54j_VS"
      },
      "source": [
        "Calculating HQM store"
      ]
    },
    {
      "cell_type": "code",
      "metadata": {
        "id": "pTiLnvcfkBIi"
      },
      "source": [
        "from statistics import mean\n",
        "\n",
        "for row in hqm_dataframe.index:\n",
        "    momentum_percentiles = []\n",
        "    for time_period in time_periods:\n",
        "        momentum_percentiles.append(hqm_dataframe.loc[row, f'{time_period} Return Percentile'])\n",
        "    hqm_dataframe.loc[row, 'HQM Score'] = mean(momentum_percentiles)"
      ],
      "execution_count": null,
      "outputs": []
    },
    {
      "cell_type": "markdown",
      "metadata": {
        "id": "85qzmRQnkC_9"
      },
      "source": [
        "Selecting the 50 best momentum stocks"
      ]
    },
    {
      "cell_type": "code",
      "metadata": {
        "id": "BHPazYY-kFMH"
      },
      "source": [
        "hqm_dataframe.sort_values(by = 'HQM Score', ascending = False)\n",
        "hqm_dataframe = hqm_dataframe[:51]"
      ],
      "execution_count": null,
      "outputs": []
    },
    {
      "cell_type": "markdown",
      "metadata": {
        "id": "FQiQXne6kHhK"
      },
      "source": [
        "Calculating the number of shares to buy"
      ]
    },
    {
      "cell_type": "code",
      "metadata": {
        "id": "M5At-ylbkJ_y"
      },
      "source": [
        "portfolio_input()"
      ],
      "execution_count": null,
      "outputs": []
    },
    {
      "cell_type": "code",
      "metadata": {
        "id": "JpHxksnYkLsV"
      },
      "source": [
        "position_size = float(portfolio_size) / len(hqm_dataframe.index)\n",
        "for i in range(0, len(hqm_dataframe['Ticker'])-1):\n",
        "    hqm_dataframe.loc[i, 'Number of Shares to Buy'] = math.floor(position_size / hqm_dataframe['Price'][i])\n",
        "hqm_dataframe"
      ],
      "execution_count": null,
      "outputs": []
    },
    {
      "cell_type": "markdown",
      "metadata": {
        "id": "2Vla7kk_kOkZ"
      },
      "source": [
        "Formatting our Excel output"
      ]
    },
    {
      "cell_type": "code",
      "metadata": {
        "id": "y7uT86pBkQXr"
      },
      "source": [
        "writer = pd.ExcelWriter('momentum_strategy.xlsx', engine='xlsxwriter')\n",
        "hqm_dataframe.to_excel(writer, sheet_name='Momentum Strategy', index = False)"
      ],
      "execution_count": null,
      "outputs": []
    },
    {
      "cell_type": "code",
      "metadata": {
        "id": "x6rrCun0kUVP"
      },
      "source": [
        "background_color = '#0a0a23'\n",
        "font_color = '#ffffff'\n",
        "\n",
        "string_template = writer.book.add_format(\n",
        "        {\n",
        "            'font_color': font_color,\n",
        "            'bg_color': background_color,\n",
        "            'border': 1\n",
        "        }\n",
        "    )\n",
        "\n",
        "dollar_template = writer.book.add_format(\n",
        "        {\n",
        "            'num_format':'$0.00',\n",
        "            'font_color': font_color,\n",
        "            'bg_color': background_color,\n",
        "            'border': 1\n",
        "        }\n",
        "    )\n",
        "\n",
        "integer_template = writer.book.add_format(\n",
        "        {\n",
        "            'num_format':'0',\n",
        "            'font_color': font_color,\n",
        "            'bg_color': background_color,\n",
        "            'border': 1\n",
        "        }\n",
        "    )\n",
        "\n",
        "percent_template = writer.book.add_format(\n",
        "        {\n",
        "            'num_format':'0.0%',\n",
        "            'font_color': font_color,\n",
        "            'bg_color': background_color,\n",
        "            'border': 1\n",
        "        }\n",
        "    )"
      ],
      "execution_count": null,
      "outputs": []
    },
    {
      "cell_type": "code",
      "metadata": {
        "id": "8RlgSbkJkXNO"
      },
      "source": [
        "column_formats = { \n",
        "                    'A': ['Ticker', string_template],\n",
        "                    'B': ['Price', dollar_template],\n",
        "                    'C': ['Number of Shares to Buy', integer_template],\n",
        "                    'D': ['One-Year Price Return', percent_template],\n",
        "                    'E': ['One-Year Return Percentile', percent_template],\n",
        "                    'F': ['Six-Month Price Return', percent_template],\n",
        "                    'G': ['Six-Month Return Percentile', percent_template],\n",
        "                    'H': ['Three-Month Price Return', percent_template],\n",
        "                    'I': ['Three-Month Return Percentile', percent_template],\n",
        "                    'J': ['One-Month Price Return', percent_template],\n",
        "                    'K': ['One-Month Return Percentile', percent_template],\n",
        "                    'L': ['HQM Score', integer_template]\n",
        "                    }\n",
        "\n",
        "for column in column_formats.keys():\n",
        "    writer.sheets['Momentum Strategy'].set_column(f'{column}:{column}', 20, column_formats[column][1])\n",
        "    writer.sheets['Momentum Strategy'].write(f'{column}1', column_formats[column][0], string_template)"
      ],
      "execution_count": null,
      "outputs": []
    },
    {
      "cell_type": "markdown",
      "metadata": {
        "id": "hwzGSaK8kaIz"
      },
      "source": [
        "Saving our Excel output"
      ]
    },
    {
      "cell_type": "code",
      "metadata": {
        "id": "cyTWjvZEkboT"
      },
      "source": [
        "writer.save()"
      ],
      "execution_count": null,
      "outputs": []
    }
  ]
}