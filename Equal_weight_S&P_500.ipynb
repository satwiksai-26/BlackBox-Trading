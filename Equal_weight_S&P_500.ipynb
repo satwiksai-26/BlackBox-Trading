{
  "nbformat": 4,
  "nbformat_minor": 0,
  "metadata": {
    "colab": {
      "name": "Equal_weight_S&P_500.ipynb",
      "provenance": [],
      "authorship_tag": "ABX9TyPaxL7qF50jRl4YyTEd4Pb3",
      "include_colab_link": true
    },
    "kernelspec": {
      "name": "python3",
      "display_name": "Python 3"
    },
    "language_info": {
      "name": "python"
    }
  },
  "cells": [
    {
      "cell_type": "markdown",
      "metadata": {
        "id": "view-in-github",
        "colab_type": "text"
      },
      "source": [
        "<a href=\"https://colab.research.google.com/github/Ronak728/Black-box-trading-using-Python/blob/main/Equal_weight_S%26P_500.ipynb\" target=\"_parent\"><img src=\"https://colab.research.google.com/assets/colab-badge.svg\" alt=\"Open In Colab\"/></a>"
      ]
    },
    {
      "cell_type": "markdown",
      "metadata": {
        "id": "-Apu1K5Rm_54"
      },
      "source": [
        "Importing Libraries "
      ]
    },
    {
      "cell_type": "code",
      "metadata": {
        "id": "3GIQEdOZnC9N"
      },
      "source": [
        "import numpy as np\n",
        "import pandas as pd\n",
        "import requests\n",
        "import xlsxwriter\n",
        "import math"
      ],
      "execution_count": null,
      "outputs": []
    },
    {
      "cell_type": "markdown",
      "metadata": {
        "id": "vwHTeBdMsywZ"
      },
      "source": [
        "Importing List of Stocks"
      ]
    },
    {
      "cell_type": "code",
      "metadata": {
        "id": "luoavkIUeTmX"
      },
      "source": [
        "from google.colab import drive\n",
        "drive.mount('https://drive.google.com/file/d/11DUM7GC66D2ptzHT1tdgf0HP76SBo0QI/view?usp=sharing')"
      ],
      "execution_count": null,
      "outputs": []
    },
    {
      "cell_type": "code",
      "metadata": {
        "id": "83fKtTeIs1k8"
      },
      "source": [
        "stocks = pd.read_csv('sp_500_stocks.csv')\n",
        "stocks"
      ],
      "execution_count": null,
      "outputs": []
    },
    {
      "cell_type": "code",
      "metadata": {
        "id": "ffindnK7far2"
      },
      "source": [
        "from secrets import IEX_CLOUD_API_TOKEN"
      ],
      "execution_count": null,
      "outputs": []
    },
    {
      "cell_type": "markdown",
      "metadata": {
        "id": "9n01wW7Kfbbo"
      },
      "source": [
        "Making the First API call"
      ]
    },
    {
      "cell_type": "code",
      "metadata": {
        "id": "n3PGCqbHfeId"
      },
      "source": [
        "symbol='AAPL'\n",
        "api_url = f'https://sandbox.iexapis.com/stable/stock/{symbol}/quote?token={IEX_CLOUD_API_TOKEN}'\n",
        "data = requests.get(api_url).json()\n",
        "data"
      ],
      "execution_count": null,
      "outputs": []
    },
    {
      "cell_type": "markdown",
      "metadata": {
        "id": "bIaIiTnWfjyo"
      },
      "source": [
        "Parsing the API call"
      ]
    },
    {
      "cell_type": "code",
      "metadata": {
        "id": "xZwclzmGflQX"
      },
      "source": [
        "data['latestPrice']\n",
        "data['marketCap']"
      ],
      "execution_count": null,
      "outputs": []
    },
    {
      "cell_type": "markdown",
      "metadata": {
        "id": "PEt812WifpIV"
      },
      "source": [
        "Adding stocks data to Pandas dataframe"
      ]
    },
    {
      "cell_type": "code",
      "metadata": {
        "id": "OWgNO_B4frSC"
      },
      "source": [
        "my_columns = ['Ticker', 'Price','Market Capitalization', 'Number Of Shares to Buy']\n",
        "final_dataframe = pd.DataFrame(columns = my_columns)\n",
        "final_dataframe"
      ],
      "execution_count": null,
      "outputs": []
    },
    {
      "cell_type": "code",
      "metadata": {
        "id": "wBgnrR08ftxa"
      },
      "source": [
        "final_dataframe = final_dataframe.append(\n",
        "                                        pd.Series(['AAPL', \n",
        "                                                   data['latestPrice'], \n",
        "                                                   data['marketCap'], \n",
        "                                                   'N/A'], \n",
        "                                                  index = my_columns), \n",
        "                                        ignore_index = True)\n",
        "final_dataframe"
      ],
      "execution_count": null,
      "outputs": []
    },
    {
      "cell_type": "markdown",
      "metadata": {
        "id": "NWoGO5zyfzeO"
      },
      "source": [
        "Looping through the tickers in list of stocks"
      ]
    },
    {
      "cell_type": "code",
      "metadata": {
        "id": "8yFBtZt_f23p"
      },
      "source": [
        "final_dataframe = pd.DataFrame(columns = my_columns)\n",
        "for symbol in stocks['Ticker']:\n",
        "    api_url = f'https://sandbox.iexapis.com/stable/stock/{symbol}/quote?token={IEX_CLOUD_API_TOKEN}'\n",
        "    data = requests.get(api_url).json()\n",
        "    final_dataframe = final_dataframe.append(\n",
        "                                        pd.Series([symbol, \n",
        "                                                   data['latestPrice'], \n",
        "                                                   data['marketCap'], \n",
        "                                                   'N/A'], \n",
        "                                                  index = my_columns), \n",
        "                                        ignore_index = True)"
      ],
      "execution_count": null,
      "outputs": []
    },
    {
      "cell_type": "code",
      "metadata": {
        "id": "VCpbhDc2f42D"
      },
      "source": [
        "final_dataframe"
      ],
      "execution_count": null,
      "outputs": []
    },
    {
      "cell_type": "markdown",
      "metadata": {
        "id": "6-G4AeCSf63Z"
      },
      "source": [
        "Using Batch API calls"
      ]
    },
    {
      "cell_type": "code",
      "metadata": {
        "id": "hmj5Oz1Jf9Au"
      },
      "source": [
        "def chunks(lst, n):\n",
        "    \"\"\"Yield successive n-sized chunks from lst.\"\"\"\n",
        "    for i in range(0, len(lst), n):\n",
        "        yield lst[i:i + n]"
      ],
      "execution_count": null,
      "outputs": []
    },
    {
      "cell_type": "code",
      "metadata": {
        "id": "ryw00d8wf_1l"
      },
      "source": [
        "symbol_groups = list(chunks(stocks['Ticker'], 100))\n",
        "symbol_strings = []\n",
        "for i in range(0, len(symbol_groups)):\n",
        "    symbol_strings.append(','.join(symbol_groups[i]))\n",
        "#     print(symbol_strings[i])\n",
        "\n",
        "final_dataframe = pd.DataFrame(columns = my_columns)\n",
        "\n",
        "for symbol_string in symbol_strings:\n",
        "#     print(symbol_strings)\n",
        "    batch_api_call_url = f'https://sandbox.iexapis.com/stable/stock/market/batch/?types=quote&symbols={symbol_string}&token={IEX_CLOUD_API_TOKEN}'\n",
        "    data = requests.get(batch_api_call_url).json()\n",
        "    for symbol in symbol_string.split(','):\n",
        "        final_dataframe = final_dataframe.append(\n",
        "                                        pd.Series([symbol, \n",
        "                                                   data[symbol]['quote']['latestPrice'], \n",
        "                                                   data[symbol]['quote']['marketCap'], \n",
        "                                                   'N/A'], \n",
        "                                                  index = my_columns), \n",
        "                                        ignore_index = True)\n",
        "        \n",
        "    \n",
        "final_dataframe"
      ],
      "execution_count": null,
      "outputs": []
    },
    {
      "cell_type": "markdown",
      "metadata": {
        "id": "VqXMa2JXgD6v"
      },
      "source": [
        "Calculating the number of shares to buy"
      ]
    },
    {
      "cell_type": "code",
      "metadata": {
        "id": "7YOLgbXsgFsp"
      },
      "source": [
        "portfolio_size = input(\"Enter the value of your portfolio:\")\n",
        "\n",
        "try:\n",
        "    val = float(portfolio_size)\n",
        "except ValueError:\n",
        "    print(\"That's not a number! \\n Try again:\")\n",
        "    portfolio_size = input(\"Enter the value of your portfolio:\")"
      ],
      "execution_count": null,
      "outputs": []
    },
    {
      "cell_type": "code",
      "metadata": {
        "id": "4mcC2FxPgIEq"
      },
      "source": [
        "position_size = float(portfolio_size) / len(final_dataframe.index)\n",
        "for i in range(0, len(final_dataframe['Ticker'])-1):\n",
        "    final_dataframe.loc[i, 'Number Of Shares to Buy'] = math.floor(position_size / final_dataframe['Price'][i])\n",
        "final_dataframe"
      ],
      "execution_count": null,
      "outputs": []
    },
    {
      "cell_type": "markdown",
      "metadata": {
        "id": "tnb8cHWqgJ3x"
      },
      "source": [
        "Formatting our Excel output, initializing our XlsxWriter"
      ]
    },
    {
      "cell_type": "code",
      "metadata": {
        "id": "iIPtt-LFgM9R"
      },
      "source": [
        "writer = pd.ExcelWriter('recommended_trades.xlsx', engine='xlsxwriter')\n",
        "final_dataframe.to_excel(writer, sheet_name='Recommended Trades', index = False)"
      ],
      "execution_count": null,
      "outputs": []
    },
    {
      "cell_type": "markdown",
      "metadata": {
        "id": "TM5LbzErgaFn"
      },
      "source": [
        "Creating the format of our .xlsx file"
      ]
    },
    {
      "cell_type": "code",
      "metadata": {
        "id": "l-Zho7yLgc0g"
      },
      "source": [
        "background_color = '#0a0a23'\n",
        "font_color = '#ffffff'\n",
        "\n",
        "string_format = writer.book.add_format(\n",
        "        {\n",
        "            'font_color': font_color,\n",
        "            'bg_color': background_color,\n",
        "            'border': 1\n",
        "        }\n",
        "    )\n",
        "\n",
        "dollar_format = writer.book.add_format(\n",
        "        {\n",
        "            'num_format':'$0.00',\n",
        "            'font_color': font_color,\n",
        "            'bg_color': background_color,\n",
        "            'border': 1\n",
        "        }\n",
        "    )\n",
        "\n",
        "integer_format = writer.book.add_format(\n",
        "        {\n",
        "            'num_format':'0',\n",
        "            'font_color': font_color,\n",
        "            'bg_color': background_color,\n",
        "            'border': 1\n",
        "        }\n",
        "    )"
      ],
      "execution_count": null,
      "outputs": []
    },
    {
      "cell_type": "code",
      "metadata": {
        "id": "aYTr-sc7gm4R"
      },
      "source": [
        "column_formats = { \n",
        "                    'A': ['Ticker', string_format],\n",
        "                    'B': ['Price', dollar_format],\n",
        "                    'C': ['Market Capitalization', dollar_format],\n",
        "                    'D': ['Number of Shares to Buy', integer_format]\n",
        "                    }\n",
        "\n",
        "for column in column_formats.keys():\n",
        "    writer.sheets['Recommended Trades'].set_column(f'{column}:{column}', 20, column_formats[column][1])\n",
        "    writer.sheets['Recommended Trades'].write(f'{column}1', column_formats[column][0], string_format)"
      ],
      "execution_count": null,
      "outputs": []
    },
    {
      "cell_type": "markdown",
      "metadata": {
        "id": "K1xhjLjJgnVd"
      },
      "source": [
        "Saving our Excel output"
      ]
    },
    {
      "cell_type": "code",
      "metadata": {
        "id": "_2pd76v3gqOh"
      },
      "source": [
        "writer.save()"
      ],
      "execution_count": null,
      "outputs": []
    }
  ]
}