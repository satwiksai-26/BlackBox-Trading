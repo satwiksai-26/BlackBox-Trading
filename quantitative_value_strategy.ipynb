{
  "nbformat": 4,
  "nbformat_minor": 0,
  "metadata": {
    "colab": {
      "name": "quantitative_value_strategy.ipynb",
      "provenance": [],
      "authorship_tag": "ABX9TyOfoOMv81Hc4F44X1i1WsaK",
      "include_colab_link": true
    },
    "kernelspec": {
      "name": "python3",
      "display_name": "Python 3"
    },
    "language_info": {
      "name": "python"
    }
  },
  "cells": [
    {
      "cell_type": "markdown",
      "metadata": {
        "id": "view-in-github",
        "colab_type": "text"
      },
      "source": [
        "<a href=\"https://colab.research.google.com/github/Ronak728/Black-box-trading-using-Python/blob/main/quantitative_value_strategy.ipynb\" target=\"_parent\"><img src=\"https://colab.research.google.com/assets/colab-badge.svg\" alt=\"Open In Colab\"/></a>"
      ]
    },
    {
      "cell_type": "markdown",
      "metadata": {
        "id": "13YKdWK4lEIZ"
      },
      "source": [
        "Importing Libraries"
      ]
    },
    {
      "cell_type": "code",
      "metadata": {
        "id": "u1jMwOfckqqg"
      },
      "source": [
        "import numpy as np\n",
        "import pandas as pd\n",
        "import requests\n",
        "import xlsxwriter\n",
        "import math\n",
        "from scipy import stats"
      ],
      "execution_count": null,
      "outputs": []
    },
    {
      "cell_type": "markdown",
      "metadata": {
        "id": "TwDdqMaelIJL"
      },
      "source": [
        "Importing List of stocks and API token"
      ]
    },
    {
      "cell_type": "code",
      "metadata": {
        "id": "ipTPvnFclLo9"
      },
      "source": [
        "stocks = pd.read_csv('sp_500_stocks.csv')\n",
        "from secrets import IEX_CLOUD_API_TOKEN"
      ],
      "execution_count": null,
      "outputs": []
    },
    {
      "cell_type": "markdown",
      "metadata": {
        "id": "o4OGk0qKlNmu"
      },
      "source": [
        "Making first API call"
      ]
    },
    {
      "cell_type": "code",
      "metadata": {
        "id": "-sQFQMVilPAZ"
      },
      "source": [
        "symbol = 'AAPL'\n",
        "api_url = f'https://sandbox.iexapis.com/stable/stock/{symbol}/quote?token={IEX_CLOUD_API_TOKEN}'\n",
        "data = requests.get(api_url).json()\n",
        "data"
      ],
      "execution_count": null,
      "outputs": []
    },
    {
      "cell_type": "markdown",
      "metadata": {
        "id": "5hs7FUEDn4Ik"
      },
      "source": [
        "Parsing API call"
      ]
    },
    {
      "cell_type": "code",
      "metadata": {
        "id": "7Va2UawLn5QC"
      },
      "source": [
        "pe_ratio = data['peRatio']\n",
        "pe_ratio"
      ],
      "execution_count": null,
      "outputs": []
    },
    {
      "cell_type": "markdown",
      "metadata": {
        "id": "ffOHxl61n5tt"
      },
      "source": [
        "Executing Batch API call"
      ]
    },
    {
      "cell_type": "code",
      "metadata": {
        "id": "eOVAN9pBn-sW",
        "colab": {
          "base_uri": "https://localhost:8080/",
          "height": 233
        },
        "outputId": "7d2c5f60-c6f2-416d-b323-f197220c19c9"
      },
      "source": [
        "def chunks(lst, n):\n",
        "    \"\"\"Yield successive n-sized chunks from lst.\"\"\"\n",
        "    for i in range(0, len(lst), n):\n",
        "        yield lst[i:i + n]   \n",
        "        \n",
        "symbol_groups = list(chunks(stocks['Ticker'], 100))\n",
        "symbol_strings = []\n",
        "for i in range(0, len(symbol_groups)):\n",
        "    symbol_strings.append(','.join(symbol_groups[i]))\n",
        "\n",
        "my_columns = ['Ticker', 'Price', 'Price-to-Earnings Ratio', 'Number of Shares to Buy']"
      ],
      "execution_count": null,
      "outputs": [
        {
          "output_type": "error",
          "ename": "NameError",
          "evalue": "ignored",
          "traceback": [
            "\u001b[0;31m---------------------------------------------------------------------------\u001b[0m",
            "\u001b[0;31mNameError\u001b[0m                                 Traceback (most recent call last)",
            "\u001b[0;32m<ipython-input-1-18ddff703b2f>\u001b[0m in \u001b[0;36m<module>\u001b[0;34m()\u001b[0m\n\u001b[1;32m      4\u001b[0m         \u001b[0;32myield\u001b[0m \u001b[0mlst\u001b[0m\u001b[0;34m[\u001b[0m\u001b[0mi\u001b[0m\u001b[0;34m:\u001b[0m\u001b[0mi\u001b[0m \u001b[0;34m+\u001b[0m \u001b[0mn\u001b[0m\u001b[0;34m]\u001b[0m\u001b[0;34m\u001b[0m\u001b[0;34m\u001b[0m\u001b[0m\n\u001b[1;32m      5\u001b[0m \u001b[0;34m\u001b[0m\u001b[0m\n\u001b[0;32m----> 6\u001b[0;31m \u001b[0msymbol_groups\u001b[0m \u001b[0;34m=\u001b[0m \u001b[0mlist\u001b[0m\u001b[0;34m(\u001b[0m\u001b[0mchunks\u001b[0m\u001b[0;34m(\u001b[0m\u001b[0mstocks\u001b[0m\u001b[0;34m[\u001b[0m\u001b[0;34m'Ticker'\u001b[0m\u001b[0;34m]\u001b[0m\u001b[0;34m,\u001b[0m \u001b[0;36m100\u001b[0m\u001b[0;34m)\u001b[0m\u001b[0;34m)\u001b[0m\u001b[0;34m\u001b[0m\u001b[0;34m\u001b[0m\u001b[0m\n\u001b[0m\u001b[1;32m      7\u001b[0m \u001b[0msymbol_strings\u001b[0m \u001b[0;34m=\u001b[0m \u001b[0;34m[\u001b[0m\u001b[0;34m]\u001b[0m\u001b[0;34m\u001b[0m\u001b[0;34m\u001b[0m\u001b[0m\n\u001b[1;32m      8\u001b[0m \u001b[0;32mfor\u001b[0m \u001b[0mi\u001b[0m \u001b[0;32min\u001b[0m \u001b[0mrange\u001b[0m\u001b[0;34m(\u001b[0m\u001b[0;36m0\u001b[0m\u001b[0;34m,\u001b[0m \u001b[0mlen\u001b[0m\u001b[0;34m(\u001b[0m\u001b[0msymbol_groups\u001b[0m\u001b[0;34m)\u001b[0m\u001b[0;34m)\u001b[0m\u001b[0;34m:\u001b[0m\u001b[0;34m\u001b[0m\u001b[0;34m\u001b[0m\u001b[0m\n",
            "\u001b[0;31mNameError\u001b[0m: name 'stocks' is not defined"
          ]
        }
      ]
    },
    {
      "cell_type": "markdown",
      "metadata": {
        "id": "ct3LCYC1oANv"
      },
      "source": [
        "Building DataFrame"
      ]
    },
    {
      "cell_type": "code",
      "metadata": {
        "id": "55lW2RL3oEXU"
      },
      "source": [
        "final_dataframe = pd.DataFrame(columns = my_columns)\n",
        "\n",
        "for symbol_string in symbol_strings:\n",
        "#     print(symbol_strings)\n",
        "    batch_api_call_url = f'https://sandbox.iexapis.com/stable/stock/market/batch/?types=quote&symbols={symbol_string}&token={IEX_CLOUD_API_TOKEN}'\n",
        "    data = requests.get(batch_api_call_url).json()\n",
        "    for symbol in symbol_string.split(','):\n",
        "        final_dataframe = final_dataframe.append(\n",
        "                                        pd.Series([symbol, \n",
        "                                                   data[symbol]['quote']['latestPrice'],\n",
        "                                                   data[symbol]['quote']['peRatio'],\n",
        "                                                   'N/A'\n",
        "                                                   ], \n",
        "                                                  index = my_columns), \n",
        "                                        ignore_index = True)\n",
        "        \n",
        "    \n",
        "final_dataframe"
      ],
      "execution_count": null,
      "outputs": []
    },
    {
      "cell_type": "markdown",
      "metadata": {
        "id": "Mx9ugta9oK0I"
      },
      "source": [
        "Removing glamour stock"
      ]
    },
    {
      "cell_type": "code",
      "metadata": {
        "id": "cn8xDfImoMv4"
      },
      "source": [
        "final_dataframe.sort_values('Price-to-Earnings Ratio', inplace = True)\n",
        "final_dataframe = final_dataframe[final_dataframe['Price-to-Earnings Ratio'] > 0]\n",
        "final_dataframe = final_dataframe[:50]\n",
        "final_dataframe.reset_index(inplace = True)\n",
        "final_dataframe.drop('index', axis=1, inplace = True)"
      ],
      "execution_count": null,
      "outputs": []
    },
    {
      "cell_type": "markdown",
      "metadata": {
        "id": "T9dHUIhWoQpp"
      },
      "source": [
        "Calculating the number of shares to buy"
      ]
    },
    {
      "cell_type": "code",
      "metadata": {
        "id": "mymMl0ueoTDM"
      },
      "source": [
        "def portfolio_input():\n",
        "    global portfolio_size\n",
        "    portfolio_size = input(\"Enter the value of your portfolio:\")\n",
        "\n",
        "    try:\n",
        "        val = float(portfolio_size)\n",
        "    except ValueError:\n",
        "        print(\"That's not a number! \\n Try again:\")\n",
        "        portfolio_size = input(\"Enter the value of your portfolio:\")"
      ],
      "execution_count": null,
      "outputs": []
    },
    {
      "cell_type": "code",
      "metadata": {
        "id": "bN_oD6feoUh3"
      },
      "source": [
        "portfolio_input()"
      ],
      "execution_count": null,
      "outputs": []
    },
    {
      "cell_type": "code",
      "metadata": {
        "id": "oC_sBlMloU5m"
      },
      "source": [
        "position_size = float(portfolio_size) / len(final_dataframe.index)\n",
        "for i in range(0, len(final_dataframe['Ticker'])):\n",
        "    final_dataframe.loc[i, 'Number of Shares to Buy'] = math.floor(position_size / final_dataframe['Price'][i])\n",
        "final_dataframe"
      ],
      "execution_count": null,
      "outputs": []
    },
    {
      "cell_type": "markdown",
      "metadata": {
        "id": "kQVk0aSgoXDA"
      },
      "source": [
        "Building a better and more realistic value strategy"
      ]
    },
    {
      "cell_type": "code",
      "metadata": {
        "id": "-ua-N6hIocY1"
      },
      "source": [
        "symbol = 'AAPL'\n",
        "batch_api_call_url = f'https://sandbox.iexapis.com/stable/stock/market/batch/?types=advanced-stats,quote&symbols={symbol}&token={IEX_CLOUD_API_TOKEN}'\n",
        "data = requests.get(batch_api_call_url).json()\n",
        "\n",
        "# P/E Ratio\n",
        "pe_ratio = data[symbol]['quote']['peRatio']\n",
        "\n",
        "# P/B Ratio\n",
        "pb_ratio = data[symbol]['advanced-stats']['priceToBook']\n",
        "\n",
        "#P/S Ratio\n",
        "ps_ratio = data[symbol]['advanced-stats']['priceToSales']\n",
        "\n",
        "# EV/EBITDA\n",
        "enterprise_value = data[symbol]['advanced-stats']['enterpriseValue']\n",
        "ebitda = data[symbol]['advanced-stats']['EBITDA']\n",
        "ev_to_ebitda = enterprise_value/ebitda\n",
        "\n",
        "# EV/GP\n",
        "gross_profit = data[symbol]['advanced-stats']['grossProfit']\n",
        "ev_to_gross_profit = enterprise_value/gross_profit"
      ],
      "execution_count": null,
      "outputs": []
    },
    {
      "cell_type": "code",
      "metadata": {
        "id": "oBc6ZFUXoi6Z"
      },
      "source": [
        "rv_columns = [\n",
        "    'Ticker',\n",
        "    'Price',\n",
        "    'Number of Shares to Buy', \n",
        "    'Price-to-Earnings Ratio',\n",
        "    'PE Percentile',\n",
        "    'Price-to-Book Ratio',\n",
        "    'PB Percentile',\n",
        "    'Price-to-Sales Ratio',\n",
        "    'PS Percentile',\n",
        "    'EV/EBITDA',\n",
        "    'EV/EBITDA Percentile',\n",
        "    'EV/GP',\n",
        "    'EV/GP Percentile',\n",
        "    'RV Score'\n",
        "]\n",
        "\n",
        "rv_dataframe = pd.DataFrame(columns = rv_columns)\n",
        "\n",
        "for symbol_string in symbol_strings:\n",
        "    batch_api_call_url = f'https://sandbox.iexapis.com/stable/stock/market/batch?symbols={symbol_string}&types=quote,advanced-stats&token={IEX_CLOUD_API_TOKEN}'\n",
        "    data = requests.get(batch_api_call_url).json()\n",
        "    for symbol in symbol_string.split(','):\n",
        "        enterprise_value = data[symbol]['advanced-stats']['enterpriseValue']\n",
        "        ebitda = data[symbol]['advanced-stats']['EBITDA']\n",
        "        gross_profit = data[symbol]['advanced-stats']['grossProfit']\n",
        "        \n",
        "        try:\n",
        "            ev_to_ebitda = enterprise_value/ebitda\n",
        "        except TypeError:\n",
        "            ev_to_ebitda = np.NaN\n",
        "        \n",
        "        try:\n",
        "            ev_to_gross_profit = enterprise_value/gross_profit\n",
        "        except TypeError:\n",
        "            ev_to_gross_profit = np.NaN\n",
        "            \n",
        "        rv_dataframe = rv_dataframe.append(\n",
        "            pd.Series([\n",
        "                symbol,\n",
        "                data[symbol]['quote']['latestPrice'],\n",
        "                'N/A',\n",
        "                data[symbol]['quote']['peRatio'],\n",
        "                'N/A',\n",
        "                data[symbol]['advanced-stats']['priceToBook'],\n",
        "                'N/A',\n",
        "                data[symbol]['advanced-stats']['priceToSales'],\n",
        "                'N/A',\n",
        "                ev_to_ebitda,\n",
        "                'N/A',\n",
        "                ev_to_gross_profit,\n",
        "                'N/A',\n",
        "                'N/A'\n",
        "        ],\n",
        "        index = rv_columns),\n",
        "            ignore_index = True\n",
        "        )"
      ],
      "execution_count": null,
      "outputs": []
    },
    {
      "cell_type": "markdown",
      "metadata": {
        "id": "G8rrD-Scontn"
      },
      "source": [
        "Dealing with missing data from the dataframe"
      ]
    },
    {
      "cell_type": "code",
      "metadata": {
        "id": "M6gfSTzKopkc"
      },
      "source": [
        "rv_dataframe[rv_dataframe.isnull().any(axis=1)]"
      ],
      "execution_count": null,
      "outputs": []
    },
    {
      "cell_type": "code",
      "metadata": {
        "id": "YrPBTEIIot84"
      },
      "source": [
        "for column in ['Price-to-Earnings Ratio', 'Price-to-Book Ratio','Price-to-Sales Ratio',  'EV/EBITDA','EV/GP']:\n",
        "    rv_dataframe[column].fillna(rv_dataframe[column].mean(), inplace = True)"
      ],
      "execution_count": null,
      "outputs": []
    },
    {
      "cell_type": "code",
      "metadata": {
        "id": "XRDjittIoui_"
      },
      "source": [
        "rv_dataframe[rv_dataframe.isnull().any(axis=1)]"
      ],
      "execution_count": null,
      "outputs": []
    },
    {
      "cell_type": "markdown",
      "metadata": {
        "id": "2aIy66fCozGZ"
      },
      "source": [
        "Calculating value percentiles"
      ]
    },
    {
      "cell_type": "code",
      "metadata": {
        "id": "NMylkq3Zo0lp"
      },
      "source": [
        "metrics = {\n",
        "            'Price-to-Earnings Ratio': 'PE Percentile',\n",
        "            'Price-to-Book Ratio':'PB Percentile',\n",
        "            'Price-to-Sales Ratio': 'PS Percentile',\n",
        "            'EV/EBITDA':'EV/EBITDA Percentile',\n",
        "            'EV/GP':'EV/GP Percentile'\n",
        "}\n",
        "\n",
        "for row in rv_dataframe.index:\n",
        "    for metric in metrics.keys():\n",
        "        rv_dataframe.loc[row, metrics[metric]] = stats.percentileofscore(rv_dataframe[metric], rv_dataframe.loc[row, metric])/100\n",
        "\n",
        "# Print each percentile score to make sure it was calculated properly\n",
        "for metric in metrics.values():\n",
        "    print(rv_dataframe[metric])\n",
        "\n",
        "#Print the entire DataFrame    \n",
        "rv_dataframe"
      ],
      "execution_count": null,
      "outputs": []
    },
    {
      "cell_type": "markdown",
      "metadata": {
        "id": "e4am5r1wo3kK"
      },
      "source": [
        "Calculating the RV score"
      ]
    },
    {
      "cell_type": "code",
      "metadata": {
        "id": "TTvOE2dro5dz"
      },
      "source": [
        "from statistics import mean\n",
        "\n",
        "for row in rv_dataframe.index:\n",
        "    value_percentiles = []\n",
        "    for metric in metrics.keys():\n",
        "        value_percentiles.append(rv_dataframe.loc[row, metrics[metric]])\n",
        "    rv_dataframe.loc[row, 'RV Score'] = mean(value_percentiles)\n",
        "    \n",
        "rv_dataframe"
      ],
      "execution_count": null,
      "outputs": []
    },
    {
      "cell_type": "markdown",
      "metadata": {
        "id": "2ddDbq-ho77Z"
      },
      "source": [
        "Selecting the 50 best value stocks"
      ]
    },
    {
      "cell_type": "code",
      "metadata": {
        "id": "CdEQpcoco9ya"
      },
      "source": [
        "rv_dataframe.sort_values(by = 'RV Score', inplace = True)\n",
        "rv_dataframe = rv_dataframe[:50]\n",
        "rv_dataframe.reset_index(drop = True, inplace = True)"
      ],
      "execution_count": null,
      "outputs": []
    },
    {
      "cell_type": "markdown",
      "metadata": {
        "id": "VhxLLhrwpAJa"
      },
      "source": [
        "Calculating the number of shares to buy"
      ]
    },
    {
      "cell_type": "code",
      "metadata": {
        "id": "yikpfFV1pCTC"
      },
      "source": [
        "portfolio_input()"
      ],
      "execution_count": null,
      "outputs": []
    },
    {
      "cell_type": "code",
      "metadata": {
        "id": "AtdxORaHpCxx"
      },
      "source": [
        "position_size = float(portfolio_size) / len(rv_dataframe.index)\n",
        "for i in range(0, len(rv_dataframe['Ticker'])-1):\n",
        "    rv_dataframe.loc[i, 'Number of Shares to Buy'] = math.floor(position_size / rv_dataframe['Price'][i])\n",
        "rv_dataframe"
      ],
      "execution_count": null,
      "outputs": []
    },
    {
      "cell_type": "markdown",
      "metadata": {
        "id": "0eeo1cEjpG6-"
      },
      "source": [
        "Formatting our Excel output"
      ]
    },
    {
      "cell_type": "code",
      "metadata": {
        "id": "VzU0THw7pIif"
      },
      "source": [
        "writer = pd.ExcelWriter('value_strategy.xlsx', engine='xlsxwriter')\n",
        "rv_dataframe.to_excel(writer, sheet_name='Value Strategy', index = False)"
      ],
      "execution_count": null,
      "outputs": []
    },
    {
      "cell_type": "code",
      "metadata": {
        "id": "9I7WYmwqpNKY"
      },
      "source": [
        "background_color = '#0a0a23'\n",
        "font_color = '#ffffff'\n",
        "\n",
        "string_template = writer.book.add_format(\n",
        "        {\n",
        "            'font_color': font_color,\n",
        "            'bg_color': background_color,\n",
        "            'border': 1\n",
        "        }\n",
        "    )\n",
        "\n",
        "dollar_template = writer.book.add_format(\n",
        "        {\n",
        "            'num_format':'$0.00',\n",
        "            'font_color': font_color,\n",
        "            'bg_color': background_color,\n",
        "            'border': 1\n",
        "        }\n",
        "    )\n",
        "\n",
        "integer_template = writer.book.add_format(\n",
        "        {\n",
        "            'num_format':'0',\n",
        "            'font_color': font_color,\n",
        "            'bg_color': background_color,\n",
        "            'border': 1\n",
        "        }\n",
        "    )\n",
        "\n",
        "float_template = writer.book.add_format(\n",
        "        {\n",
        "            'num_format':'0',\n",
        "            'font_color': font_color,\n",
        "            'bg_color': background_color,\n",
        "            'border': 1\n",
        "        }\n",
        "    )\n",
        "\n",
        "percent_template = writer.book.add_format(\n",
        "        {\n",
        "            'num_format':'0.0%',\n",
        "            'font_color': font_color,\n",
        "            'bg_color': background_color,\n",
        "            'border': 1\n",
        "        }\n",
        "    )"
      ],
      "execution_count": null,
      "outputs": []
    },
    {
      "cell_type": "code",
      "metadata": {
        "id": "UpYFVdFUpQog"
      },
      "source": [
        "column_formats = {\n",
        "                    'A': ['Ticker', string_template],\n",
        "                    'B': ['Price', dollar_template],\n",
        "                    'C': ['Number of Shares to Buy', integer_template],\n",
        "                    'D': ['Price-to-Earnings Ratio', float_template],\n",
        "                    'E': ['PE Percentile', percent_template],\n",
        "                    'F': ['Price-to-Book Ratio', float_template],\n",
        "                    'G': ['PB Percentile',percent_template],\n",
        "                    'H': ['Price-to-Sales Ratio', float_template],\n",
        "                    'I': ['PS Percentile', percent_template],\n",
        "                    'J': ['EV/EBITDA', float_template],\n",
        "                    'K': ['EV/EBITDA Percentile', percent_template],\n",
        "                    'L': ['EV/GP', float_template],\n",
        "                    'M': ['EV/GP Percentile', percent_template],\n",
        "                    'N': ['RV Score', percent_template]\n",
        "                 }\n",
        "\n",
        "for column in column_formats.keys():\n",
        "    writer.sheets['Value Strategy'].set_column(f'{column}:{column}', 25, column_formats[column][1])\n",
        "    writer.sheets['Value Strategy'].write(f'{column}1', column_formats[column][0], column_formats[column][1])"
      ],
      "execution_count": null,
      "outputs": []
    },
    {
      "cell_type": "markdown",
      "metadata": {
        "id": "QBM8zn3qpS2p"
      },
      "source": [
        "Saving our Excel output"
      ]
    },
    {
      "cell_type": "code",
      "metadata": {
        "id": "lumNz7AtpVIL"
      },
      "source": [
        "writer.save()"
      ],
      "execution_count": null,
      "outputs": []
    }
  ]
}